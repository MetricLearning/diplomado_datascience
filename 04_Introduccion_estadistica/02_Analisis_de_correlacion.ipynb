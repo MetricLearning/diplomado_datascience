{
 "cells": [
  {
   "cell_type": "markdown",
   "metadata": {},
   "source": [
    "# Análisis estadístico de asociación entre variables\n",
    "\n",
    "**Autor:** Roberto P. Muñoz<br />\n",
    "**Cargo:** Data Scientist en MetricArts<br />\n",
    "**Github:** <https://github.com/rpmunoz>\n",
    "\n",
    "En la sección anterior aprendimos cómo hacer un análisis descriptivo usando una sola variable. Para ello empleamos elementos estadísticos tales como tablas de frecuencia, medidas de localización y medidas de dispersión.\n",
    "\n",
    "En esta sección aprenderemos cómo hacer un análisis estadístico de la asociación entre variables. Entendemos como asociación el análisis de relaciones, covarianza y correlación entre variables.\n",
    "\n",
    "El análisis estadístico de la asociación entre variables representa una parte fundamental del análisis de datos, pues muchas de las preguntas e hipótesis que se plantean en los estudios implican analizar la existencia de relación entre variables."
   ]
  },
  {
   "cell_type": "markdown",
   "metadata": {},
   "source": [
    "## Análisis de asociación\n",
    "\n",
    "La **existencia** de algún tipo de asociación entre dos o más variables representa la presencia de algún tipo de tendencia o patrón de emparejamiento entre los distintos valores de esas variables.\n",
    "\n",
    "- Supongamos que tenemos una variable X que puede tomar los valores [a, b, c] y otra variable Y que puede tomar los valores [m, n, p]. Los datos empíricos indican que los sujetos que en X tienen valor **a** en Y tienden a tener valor **n**, que las que son **b** tienden a ser **p**, y que las que son **c** tienden a ser **m**. Esta evidencia pone de manifiesto que existe cierta asociación entre ambas variables.\n",
    "\n",
    "Para visualizar esta situación, usamos las distribuciones de frecuencias de la variable Y para aquellos casos que en la variable X toma los valores **a**, **b** y **c**, respectivamente.\n",
    "\n",
    "![optional caption text](figures/analisis asociacion positivo.jpg)\n"
   ]
  },
  {
   "cell_type": "markdown",
   "metadata": {},
   "source": [
    "Complementariamente, se habla de **independencia** entre variables cuando no existe tal patrón de relación entre los valores de las mismas.\n",
    "\n",
    "- Siguiendo el ejemplo anterior, sería el caso en que los sujetos que en X son **a**, en Y tienen una distribución que es igual o muy similar a la que tienen los que en X son **b** y **c**.\n",
    "\n",
    "Para visualizar esta situación, usamos las distribuciones de frecuencias de la variable Y.\n",
    "\n",
    "![optional caption text](figures/analisis asociacion independiente.jpg)"
   ]
  },
  {
   "cell_type": "markdown",
   "metadata": {},
   "source": [
    "La asociación entre variables no debe entenderse como una cuestión de todo o nada, sino como un continuo que iría desde la ausencia de relación (independencia) al nivel máximo de relación entre las variables. Este grado máximo se plasmaría en una relación determinista, esto es, el caso en que a partir del valor de un sujeto cualquiera en una variable, se puede afirmar cual será su valor en la otra variable."
   ]
  },
  {
   "cell_type": "markdown",
   "metadata": {},
   "source": [
    "## Análisis usando Python"
   ]
  },
  {
   "cell_type": "code",
   "execution_count": 12,
   "metadata": {
    "collapsed": false
   },
   "outputs": [
    {
     "data": {
      "text/plain": [
       "'%.2f'"
      ]
     },
     "execution_count": 12,
     "metadata": {},
     "output_type": "execute_result"
    }
   ],
   "source": [
    "import numpy as np\n",
    "import pandas as pd\n",
    "import matplotlib.pyplot as plt\n",
    "\n",
    "%matplotlib inline\n",
    "params = {'legend.fontsize': 'x-large',\n",
    "          'figure.figsize': (10, 7.5),\n",
    "         'axes.labelsize': 'x-large',\n",
    "         'axes.titlesize':'x-large',\n",
    "         'xtick.labelsize':'x-large',\n",
    "         'ytick.labelsize':'x-large'}\n",
    "plt.rcParams.update(params)\n",
    "\n",
    "np.set_printoptions(precision=2)\n",
    "%precision 2"
   ]
  },
  {
   "cell_type": "markdown",
   "metadata": {},
   "source": [
    "## Lectura de datos\n",
    "\n",
    "En este tutorial usaremos una base de datos que contiene información con los precios de venta de 600 casas.\n",
    "\n",
    "Los campos disponibles son la fecha en que fue vendida la casa, el precio en dólares americanos, el área útil en metros cuadrados, el área construida en metros cuadrados, el número de habitaciones, el número de baños, el número de pisos y el año en que fue construida."
   ]
  },
  {
   "cell_type": "code",
   "execution_count": 4,
   "metadata": {
    "collapsed": false
   },
   "outputs": [
    {
     "data": {
      "text/html": [
       "<div>\n",
       "<table border=\"1\" class=\"dataframe\">\n",
       "  <thead>\n",
       "    <tr style=\"text-align: right;\">\n",
       "      <th></th>\n",
       "      <th>fecha</th>\n",
       "      <th>precio_USD</th>\n",
       "      <th>area_m2_util</th>\n",
       "      <th>area_m2_construida</th>\n",
       "      <th>habitaciones</th>\n",
       "      <th>baños</th>\n",
       "      <th>pisos</th>\n",
       "      <th>año_construida</th>\n",
       "    </tr>\n",
       "  </thead>\n",
       "  <tbody>\n",
       "    <tr>\n",
       "      <th>0</th>\n",
       "      <td>2014-05-29</td>\n",
       "      <td>485000.0</td>\n",
       "      <td>148.6</td>\n",
       "      <td>399.5</td>\n",
       "      <td>4</td>\n",
       "      <td>1.00</td>\n",
       "      <td>1.5</td>\n",
       "      <td>1916</td>\n",
       "    </tr>\n",
       "    <tr>\n",
       "      <th>1</th>\n",
       "      <td>2015-03-04</td>\n",
       "      <td>570000.0</td>\n",
       "      <td>117.1</td>\n",
       "      <td>309.2</td>\n",
       "      <td>3</td>\n",
       "      <td>1.75</td>\n",
       "      <td>1.0</td>\n",
       "      <td>1905</td>\n",
       "    </tr>\n",
       "    <tr>\n",
       "      <th>2</th>\n",
       "      <td>2014-06-26</td>\n",
       "      <td>518500.0</td>\n",
       "      <td>147.7</td>\n",
       "      <td>102.4</td>\n",
       "      <td>3</td>\n",
       "      <td>3.50</td>\n",
       "      <td>3.0</td>\n",
       "      <td>2010</td>\n",
       "    </tr>\n",
       "    <tr>\n",
       "      <th>3</th>\n",
       "      <td>2014-06-13</td>\n",
       "      <td>822500.0</td>\n",
       "      <td>215.5</td>\n",
       "      <td>460.8</td>\n",
       "      <td>5</td>\n",
       "      <td>3.50</td>\n",
       "      <td>2.0</td>\n",
       "      <td>1926</td>\n",
       "    </tr>\n",
       "    <tr>\n",
       "      <th>4</th>\n",
       "      <td>2014-11-04</td>\n",
       "      <td>511000.0</td>\n",
       "      <td>132.9</td>\n",
       "      <td>321.0</td>\n",
       "      <td>3</td>\n",
       "      <td>1.00</td>\n",
       "      <td>1.0</td>\n",
       "      <td>1947</td>\n",
       "    </tr>\n",
       "  </tbody>\n",
       "</table>\n",
       "</div>"
      ],
      "text/plain": [
       "        fecha  precio_USD  area_m2_util  area_m2_construida  habitaciones  \\\n",
       "0  2014-05-29    485000.0         148.6               399.5             4   \n",
       "1  2015-03-04    570000.0         117.1               309.2             3   \n",
       "2  2014-06-26    518500.0         147.7               102.4             3   \n",
       "3  2014-06-13    822500.0         215.5               460.8             5   \n",
       "4  2014-11-04    511000.0         132.9               321.0             3   \n",
       "\n",
       "   baños  pisos  año_construida  \n",
       "0   1.00    1.5            1916  \n",
       "1   1.75    1.0            1905  \n",
       "2   3.50    3.0            2010  \n",
       "3   3.50    2.0            1926  \n",
       "4   1.00    1.0            1947  "
      ]
     },
     "execution_count": 4,
     "metadata": {},
     "output_type": "execute_result"
    }
   ],
   "source": [
    "casas_file='data/precios_casas.csv'\n",
    "casas=pd.read_csv(casas_file)\n",
    "casas.head()"
   ]
  },
  {
   "cell_type": "code",
   "execution_count": 10,
   "metadata": {
    "collapsed": false
   },
   "outputs": [
    {
     "name": "stdout",
     "output_type": "stream",
     "text": [
      "Número de casas:  602\n",
      "Número de habitaciones:  [1, 2, 3, 4, 5, 6, 7, 9, 33]\n"
     ]
    }
   ],
   "source": [
    "print(\"Número de casas: \", len(casas))\n",
    "print(\"Número de habitaciones: \", sorted(casas['habitaciones'].unique()))"
   ]
  },
  {
   "cell_type": "markdown",
   "metadata": {},
   "source": [
    "En general, la manera más rapida de verificar si existe una relación entre variables es mediante el uso de visualizaciones. La visualización más empleada para este caso es el gráfico de puntos, el cual permite rápidamente ver la existencia de alguna relación.\n",
    "\n",
    "Supongamos que queremos ver si existe alguna relación entre las variables **precio_USD** y **area_m2_util** del conjunto de datos **casas**. Para ello usamos la función plot.scatter() de la librería pandas."
   ]
  },
  {
   "cell_type": "code",
   "execution_count": 15,
   "metadata": {
    "collapsed": false
   },
   "outputs": [
    {
     "data": {
      "text/plain": [
       "<matplotlib.text.Text at 0x112eb5518>"
      ]
     },
     "execution_count": 15,
     "metadata": {},
     "output_type": "execute_result"
    },
    {
     "data": {
      "image/png": "[encoded data removed]",
      "text/plain": [
       "<matplotlib.figure.Figure at 0x112d2cb70>"
      ]
     },
     "metadata": {},
     "output_type": "display_data"
    }
   ],
   "source": [
    "casas.plot.scatter(x='area_m2_util', y='precio_USD', s=3);\n",
    "plt.xlabel('Área en metros cuadrados')\n",
    "plt.ylabel('Precio de casa (USD)')\n",
    "plt.title('Análisis de relación entre precio y área')"
   ]
  },
  {
   "cell_type": "markdown",
   "metadata": {},
   "source": [
    "A continuación veremos cómo medir la asociación entre dos variables cuantitativas. Los índices más utilizados en estadística para analizar la intensidad o tamaño del efecto de la relación lineal entre dos variables son la **covarianza** y el **coeficiente de correlación lineal**."
   ]
  },
  {
   "cell_type": "markdown",
   "metadata": {},
   "source": [
    "## Covarianza"
   ]
  },
  {
   "cell_type": "markdown",
   "metadata": {},
   "source": [
    "La covarianza es un valor que indica el grado de variación conjunta de dos variables aleatorias respecto a sus medias. Es el dato básico para determinar si existe una dependencia entre ambas variables y además es el dato necesario para estimar otros parámetros básicos, como el coeficiente de correlación lineal.\n",
    "\n",
    "Dadas dos variables estadísticas x e y definiremos la covarianza $S_{xy}$ como:\n",
    "\n",
    "$S_{xy} = \\frac{1}{N} \\sum_{i=1}^N (x_i - \\overline{x}) (y_i - \\overline{y})$"
   ]
  },
  {
   "cell_type": "code",
   "execution_count": null,
   "metadata": {
    "collapsed": true
   },
   "outputs": [],
   "source": []
  }
 ],
 "metadata": {
  "kernelspec": {
   "display_name": "Python 3",
   "language": "python",
   "name": "python3"
  },
  "language_info": {
   "codemirror_mode": {
    "name": "ipython",
    "version": 3
   },
   "file_extension": ".py",
   "mimetype": "text/x-python",
   "name": "python",
   "nbconvert_exporter": "python",
   "pygments_lexer": "ipython3",
   "version": "3.6.1"
  }
 },
 "nbformat": 4,
 "nbformat_minor": 2
}
