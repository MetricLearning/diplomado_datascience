{
 "cells": [
  {
   "cell_type": "markdown",
   "metadata": {},
   "source": [
    "# Análisis descriptivo\n",
    "\n",
    "**Autor:** Roberto P. Muñoz<br />\n",
    "**Cargo:** Data Scientist en MetricArts<br />\n",
    "**Github:** <https://github.com/rpmunoz>"
   ]
  },
  {
   "cell_type": "code",
   "execution_count": 56,
   "metadata": {
    "collapsed": false
   },
   "outputs": [
    {
     "data": {
      "text/plain": [
       "'%.2f'"
      ]
     },
     "execution_count": 56,
     "metadata": {},
     "output_type": "execute_result"
    }
   ],
   "source": [
    "import numpy as np\n",
    "import pandas as pd\n",
    "\n",
    "np.set_printoptions(precision=2)\n",
    "%precision 2"
   ]
  },
  {
   "cell_type": "markdown",
   "metadata": {},
   "source": [
    "## Lectura de datos\n",
    "\n",
    "Para este tutorial usaremos la base de datos de vuelos áreos publicada por el sitio web Openflights. En particular, usaremos la tabla de las rutas de vuelos comerciales (**`rutas.csv`**).\n",
    "\n",
    "Más información en https://github.com/jpatokal/openflights"
   ]
  },
  {
   "cell_type": "code",
   "execution_count": 55,
   "metadata": {
    "collapsed": false
   },
   "outputs": [
    {
     "data": {
      "text/html": [
       "<div>\n",
       "<table border=\"1\" class=\"dataframe\">\n",
       "  <thead>\n",
       "    <tr style=\"text-align: right;\">\n",
       "      <th></th>\n",
       "      <th>Linea_aerea</th>\n",
       "      <th>Linea_aerea_Id</th>\n",
       "      <th>Aeropuerto_origen</th>\n",
       "      <th>Aeropuerto_origen_Id</th>\n",
       "      <th>Aeropuerto_destino</th>\n",
       "      <th>Aeropuerto_destino_Id</th>\n",
       "      <th>Vuelo_operado</th>\n",
       "      <th>Numero_paradas</th>\n",
       "      <th>Modelo_avion</th>\n",
       "      <th>Pais_origen</th>\n",
       "      <th>Pais_destino</th>\n",
       "      <th>Distancia_km</th>\n",
       "    </tr>\n",
       "  </thead>\n",
       "  <tbody>\n",
       "    <tr>\n",
       "      <th>8275</th>\n",
       "      <td>AD</td>\n",
       "      <td>13983</td>\n",
       "      <td>AQA</td>\n",
       "      <td>2521</td>\n",
       "      <td>VCP</td>\n",
       "      <td>2578</td>\n",
       "      <td>NaN</td>\n",
       "      <td>0</td>\n",
       "      <td>AT7</td>\n",
       "      <td>Brazil</td>\n",
       "      <td>Brazil</td>\n",
       "      <td>167.833407</td>\n",
       "    </tr>\n",
       "    <tr>\n",
       "      <th>31585</th>\n",
       "      <td>HY</td>\n",
       "      <td>5281</td>\n",
       "      <td>DME</td>\n",
       "      <td>4029</td>\n",
       "      <td>KSQ</td>\n",
       "      <td>6153</td>\n",
       "      <td>NaN</td>\n",
       "      <td>0</td>\n",
       "      <td>320</td>\n",
       "      <td>Russia</td>\n",
       "      <td>Uzbekistan</td>\n",
       "      <td>2773.324178</td>\n",
       "    </tr>\n",
       "    <tr>\n",
       "      <th>19369</th>\n",
       "      <td>DE</td>\n",
       "      <td>1868</td>\n",
       "      <td>AYT</td>\n",
       "      <td>1688</td>\n",
       "      <td>HAM</td>\n",
       "      <td>342</td>\n",
       "      <td>NaN</td>\n",
       "      <td>0</td>\n",
       "      <td>757</td>\n",
       "      <td>Turkey</td>\n",
       "      <td>Germany</td>\n",
       "      <td>2452.612922</td>\n",
       "    </tr>\n",
       "    <tr>\n",
       "      <th>21845</th>\n",
       "      <td>DV</td>\n",
       "      <td>4840</td>\n",
       "      <td>PPK</td>\n",
       "      <td>6084</td>\n",
       "      <td>ALA</td>\n",
       "      <td>2908</td>\n",
       "      <td>NaN</td>\n",
       "      <td>0</td>\n",
       "      <td>AN4</td>\n",
       "      <td>Kazakhstan</td>\n",
       "      <td>Kazakhstan</td>\n",
       "      <td>1390.234006</td>\n",
       "    </tr>\n",
       "    <tr>\n",
       "      <th>42974</th>\n",
       "      <td>NK</td>\n",
       "      <td>4687</td>\n",
       "      <td>FLL</td>\n",
       "      <td>3533</td>\n",
       "      <td>DTW</td>\n",
       "      <td>3645</td>\n",
       "      <td>NaN</td>\n",
       "      <td>0</td>\n",
       "      <td>320 319 321</td>\n",
       "      <td>United States</td>\n",
       "      <td>United States</td>\n",
       "      <td>1817.155698</td>\n",
       "    </tr>\n",
       "  </tbody>\n",
       "</table>\n",
       "</div>"
      ],
      "text/plain": [
       "      Linea_aerea  Linea_aerea_Id Aeropuerto_origen  Aeropuerto_origen_Id  \\\n",
       "8275           AD           13983               AQA                  2521   \n",
       "31585          HY            5281               DME                  4029   \n",
       "19369          DE            1868               AYT                  1688   \n",
       "21845          DV            4840               PPK                  6084   \n",
       "42974          NK            4687               FLL                  3533   \n",
       "\n",
       "      Aeropuerto_destino  Aeropuerto_destino_Id Vuelo_operado  Numero_paradas  \\\n",
       "8275                 VCP                   2578           NaN               0   \n",
       "31585                KSQ                   6153           NaN               0   \n",
       "19369                HAM                    342           NaN               0   \n",
       "21845                ALA                   2908           NaN               0   \n",
       "42974                DTW                   3645           NaN               0   \n",
       "\n",
       "      Modelo_avion    Pais_origen   Pais_destino  Distancia_km  \n",
       "8275           AT7         Brazil         Brazil    167.833407  \n",
       "31585          320         Russia     Uzbekistan   2773.324178  \n",
       "19369          757         Turkey        Germany   2452.612922  \n",
       "21845          AN4     Kazakhstan     Kazakhstan   1390.234006  \n",
       "42974  320 319 321  United States  United States   1817.155698  "
      ]
     },
     "execution_count": 55,
     "metadata": {},
     "output_type": "execute_result"
    }
   ],
   "source": [
    "rutas_file='data/rutas.csv'\n",
    "rutas=pd.read_csv(rutas_file)\n",
    "rutas=rutas.sample(frac=1)\n",
    "\n",
    "rutas.head()"
   ]
  },
  {
   "cell_type": "code",
   "execution_count": 23,
   "metadata": {
    "collapsed": false
   },
   "outputs": [
    {
     "name": "stdout",
     "output_type": "stream",
     "text": [
      "Número de rutas aéreas:  66765\n",
      "Número de países:  225\n"
     ]
    }
   ],
   "source": [
    "print(\"Número de rutas aéreas: \", len(rutas))\n",
    "print(\"Número de países: \", len(rutas['Pais_origen'].unique()))"
   ]
  },
  {
   "cell_type": "markdown",
   "metadata": {},
   "source": [
    "## Construcción de tabla de frencuencias\n",
    "\n",
    "Una de los primeros pasos del análisis descriptivo consiste en la organización de los datos mediante el uso de tablas o estructuras similares. La organización de los datos es fundamental para facilitar el entendimiento y posterior análisis de los datos.\n",
    "\n",
    "Es común analizar conjuntos de datos con un gran número de registros y cuyo entendimiento se dificulta debido al volumen de los datos. En nuestro caso, la tabla de rutas aéreas contiene más de 66 mil registros.\n",
    "\n",
    "La **tabla de frecuencias** o **distribución de frecuencias** es una manera de organizar los datos en forma de tabla, asignando a cada categoría o rango de valores su frecuencia correspondiente. Se pueden usar tanto variables cuantitativas como cualitativas.\n",
    "\n",
    "La primera columna contiene el **valor único** o el **rango de valores** de la variable en estudio. En nuestro caso, usaremos la variable *País de origen* para construir la tabla de frencuencias.\n",
    "\n",
    "La segunda columna contiene la **frecuencia absoluta**, la cual es el número de veces que aparece un determinado valor en un conjunto de datos. La suma de las frecuencias absolutas es igual al número total de registros.\n",
    "\n",
    "La tercera columna contiene la **frecuencia relativa**, la cual es el cuociente entre la frecuencia absoluta de un determinado valor y el número total de datos. La suma de las frecuencias relativas es igual a 1."
   ]
  },
  {
   "cell_type": "code",
   "execution_count": 54,
   "metadata": {
    "collapsed": false
   },
   "outputs": [
    {
     "data": {
      "text/html": [
       "<div>\n",
       "<table border=\"1\" class=\"dataframe\">\n",
       "  <thead>\n",
       "    <tr style=\"text-align: right;\">\n",
       "      <th></th>\n",
       "      <th>País</th>\n",
       "      <th>Frecuencia absoluta</th>\n",
       "      <th>Frencuencia relativa</th>\n",
       "    </tr>\n",
       "  </thead>\n",
       "  <tbody>\n",
       "    <tr>\n",
       "      <th>0</th>\n",
       "      <td>United States</td>\n",
       "      <td>13046</td>\n",
       "      <td>0.195402</td>\n",
       "    </tr>\n",
       "    <tr>\n",
       "      <th>1</th>\n",
       "      <td>China</td>\n",
       "      <td>8121</td>\n",
       "      <td>0.121636</td>\n",
       "    </tr>\n",
       "    <tr>\n",
       "      <th>2</th>\n",
       "      <td>United Kingdom</td>\n",
       "      <td>2661</td>\n",
       "      <td>0.039856</td>\n",
       "    </tr>\n",
       "    <tr>\n",
       "      <th>3</th>\n",
       "      <td>Spain</td>\n",
       "      <td>2528</td>\n",
       "      <td>0.037864</td>\n",
       "    </tr>\n",
       "    <tr>\n",
       "      <th>4</th>\n",
       "      <td>Germany</td>\n",
       "      <td>2352</td>\n",
       "      <td>0.035228</td>\n",
       "    </tr>\n",
       "    <tr>\n",
       "      <th>5</th>\n",
       "      <td>France</td>\n",
       "      <td>1926</td>\n",
       "      <td>0.028847</td>\n",
       "    </tr>\n",
       "    <tr>\n",
       "      <th>6</th>\n",
       "      <td>Russia</td>\n",
       "      <td>1808</td>\n",
       "      <td>0.027080</td>\n",
       "    </tr>\n",
       "    <tr>\n",
       "      <th>7</th>\n",
       "      <td>Italy</td>\n",
       "      <td>1776</td>\n",
       "      <td>0.026601</td>\n",
       "    </tr>\n",
       "    <tr>\n",
       "      <th>8</th>\n",
       "      <td>Canada</td>\n",
       "      <td>1521</td>\n",
       "      <td>0.022781</td>\n",
       "    </tr>\n",
       "    <tr>\n",
       "      <th>9</th>\n",
       "      <td>Brazil</td>\n",
       "      <td>1387</td>\n",
       "      <td>0.020774</td>\n",
       "    </tr>\n",
       "    <tr>\n",
       "      <th>10</th>\n",
       "      <td>India</td>\n",
       "      <td>1382</td>\n",
       "      <td>0.020699</td>\n",
       "    </tr>\n",
       "    <tr>\n",
       "      <th>11</th>\n",
       "      <td>Japan</td>\n",
       "      <td>1285</td>\n",
       "      <td>0.019247</td>\n",
       "    </tr>\n",
       "    <tr>\n",
       "      <th>12</th>\n",
       "      <td>Australia</td>\n",
       "      <td>1112</td>\n",
       "      <td>0.016655</td>\n",
       "    </tr>\n",
       "    <tr>\n",
       "      <th>13</th>\n",
       "      <td>Mexico</td>\n",
       "      <td>1058</td>\n",
       "      <td>0.015847</td>\n",
       "    </tr>\n",
       "    <tr>\n",
       "      <th>14</th>\n",
       "      <td>Turkey</td>\n",
       "      <td>970</td>\n",
       "      <td>0.014529</td>\n",
       "    </tr>\n",
       "    <tr>\n",
       "      <th>15</th>\n",
       "      <td>Indonesia</td>\n",
       "      <td>833</td>\n",
       "      <td>0.012477</td>\n",
       "    </tr>\n",
       "    <tr>\n",
       "      <th>16</th>\n",
       "      <td>Greece</td>\n",
       "      <td>787</td>\n",
       "      <td>0.011788</td>\n",
       "    </tr>\n",
       "    <tr>\n",
       "      <th>17</th>\n",
       "      <td>United Arab Emirates</td>\n",
       "      <td>740</td>\n",
       "      <td>0.011084</td>\n",
       "    </tr>\n",
       "    <tr>\n",
       "      <th>18</th>\n",
       "      <td>Norway</td>\n",
       "      <td>646</td>\n",
       "      <td>0.009676</td>\n",
       "    </tr>\n",
       "    <tr>\n",
       "      <th>19</th>\n",
       "      <td>Unknown</td>\n",
       "      <td>608</td>\n",
       "      <td>0.009107</td>\n",
       "    </tr>\n",
       "    <tr>\n",
       "      <th>20</th>\n",
       "      <td>Thailand</td>\n",
       "      <td>604</td>\n",
       "      <td>0.009047</td>\n",
       "    </tr>\n",
       "    <tr>\n",
       "      <th>21</th>\n",
       "      <td>South Korea</td>\n",
       "      <td>589</td>\n",
       "      <td>0.008822</td>\n",
       "    </tr>\n",
       "    <tr>\n",
       "      <th>22</th>\n",
       "      <td>Netherlands</td>\n",
       "      <td>570</td>\n",
       "      <td>0.008537</td>\n",
       "    </tr>\n",
       "    <tr>\n",
       "      <th>23</th>\n",
       "      <td>Malaysia</td>\n",
       "      <td>563</td>\n",
       "      <td>0.008433</td>\n",
       "    </tr>\n",
       "    <tr>\n",
       "      <th>24</th>\n",
       "      <td>Saudi Arabia</td>\n",
       "      <td>542</td>\n",
       "      <td>0.008118</td>\n",
       "    </tr>\n",
       "    <tr>\n",
       "      <th>25</th>\n",
       "      <td>Portugal</td>\n",
       "      <td>530</td>\n",
       "      <td>0.007938</td>\n",
       "    </tr>\n",
       "    <tr>\n",
       "      <th>26</th>\n",
       "      <td>Sweden</td>\n",
       "      <td>454</td>\n",
       "      <td>0.006800</td>\n",
       "    </tr>\n",
       "    <tr>\n",
       "      <th>27</th>\n",
       "      <td>Switzerland</td>\n",
       "      <td>429</td>\n",
       "      <td>0.006426</td>\n",
       "    </tr>\n",
       "    <tr>\n",
       "      <th>28</th>\n",
       "      <td>Iran</td>\n",
       "      <td>419</td>\n",
       "      <td>0.006276</td>\n",
       "    </tr>\n",
       "    <tr>\n",
       "      <th>29</th>\n",
       "      <td>Taiwan</td>\n",
       "      <td>414</td>\n",
       "      <td>0.006201</td>\n",
       "    </tr>\n",
       "    <tr>\n",
       "      <th>...</th>\n",
       "      <td>...</td>\n",
       "      <td>...</td>\n",
       "      <td>...</td>\n",
       "    </tr>\n",
       "    <tr>\n",
       "      <th>195</th>\n",
       "      <td>Comoros</td>\n",
       "      <td>9</td>\n",
       "      <td>0.000135</td>\n",
       "    </tr>\n",
       "    <tr>\n",
       "      <th>196</th>\n",
       "      <td>Eritrea</td>\n",
       "      <td>8</td>\n",
       "      <td>0.000120</td>\n",
       "    </tr>\n",
       "    <tr>\n",
       "      <th>197</th>\n",
       "      <td>Guinea-Bissau</td>\n",
       "      <td>7</td>\n",
       "      <td>0.000105</td>\n",
       "    </tr>\n",
       "    <tr>\n",
       "      <th>198</th>\n",
       "      <td>Western Sahara</td>\n",
       "      <td>7</td>\n",
       "      <td>0.000105</td>\n",
       "    </tr>\n",
       "    <tr>\n",
       "      <th>199</th>\n",
       "      <td>Kiribati</td>\n",
       "      <td>7</td>\n",
       "      <td>0.000105</td>\n",
       "    </tr>\n",
       "    <tr>\n",
       "      <th>200</th>\n",
       "      <td>Marshall Islands</td>\n",
       "      <td>7</td>\n",
       "      <td>0.000105</td>\n",
       "    </tr>\n",
       "    <tr>\n",
       "      <th>201</th>\n",
       "      <td>French Guiana</td>\n",
       "      <td>7</td>\n",
       "      <td>0.000105</td>\n",
       "    </tr>\n",
       "    <tr>\n",
       "      <th>202</th>\n",
       "      <td>Gibraltar</td>\n",
       "      <td>6</td>\n",
       "      <td>0.000090</td>\n",
       "    </tr>\n",
       "    <tr>\n",
       "      <th>203</th>\n",
       "      <td>Anguilla</td>\n",
       "      <td>6</td>\n",
       "      <td>0.000090</td>\n",
       "    </tr>\n",
       "    <tr>\n",
       "      <th>204</th>\n",
       "      <td>Bhutan</td>\n",
       "      <td>5</td>\n",
       "      <td>0.000075</td>\n",
       "    </tr>\n",
       "    <tr>\n",
       "      <th>205</th>\n",
       "      <td>Samoa</td>\n",
       "      <td>5</td>\n",
       "      <td>0.000075</td>\n",
       "    </tr>\n",
       "    <tr>\n",
       "      <th>206</th>\n",
       "      <td>Tonga</td>\n",
       "      <td>5</td>\n",
       "      <td>0.000075</td>\n",
       "    </tr>\n",
       "    <tr>\n",
       "      <th>207</th>\n",
       "      <td>North Korea</td>\n",
       "      <td>5</td>\n",
       "      <td>0.000075</td>\n",
       "    </tr>\n",
       "    <tr>\n",
       "      <th>208</th>\n",
       "      <td>Saint Vincent and the Grenadines</td>\n",
       "      <td>4</td>\n",
       "      <td>0.000060</td>\n",
       "    </tr>\n",
       "    <tr>\n",
       "      <th>209</th>\n",
       "      <td>Faroe Islands</td>\n",
       "      <td>4</td>\n",
       "      <td>0.000060</td>\n",
       "    </tr>\n",
       "    <tr>\n",
       "      <th>210</th>\n",
       "      <td>Wallis and Futuna</td>\n",
       "      <td>4</td>\n",
       "      <td>0.000060</td>\n",
       "    </tr>\n",
       "    <tr>\n",
       "      <th>211</th>\n",
       "      <td>East Timor</td>\n",
       "      <td>4</td>\n",
       "      <td>0.000060</td>\n",
       "    </tr>\n",
       "    <tr>\n",
       "      <th>212</th>\n",
       "      <td>Saint Pierre and Miquelon</td>\n",
       "      <td>3</td>\n",
       "      <td>0.000045</td>\n",
       "    </tr>\n",
       "    <tr>\n",
       "      <th>213</th>\n",
       "      <td>Nauru</td>\n",
       "      <td>3</td>\n",
       "      <td>0.000045</td>\n",
       "    </tr>\n",
       "    <tr>\n",
       "      <th>214</th>\n",
       "      <td>Sao Tome and Principe</td>\n",
       "      <td>3</td>\n",
       "      <td>0.000045</td>\n",
       "    </tr>\n",
       "    <tr>\n",
       "      <th>215</th>\n",
       "      <td>Norfolk Island</td>\n",
       "      <td>3</td>\n",
       "      <td>0.000045</td>\n",
       "    </tr>\n",
       "    <tr>\n",
       "      <th>216</th>\n",
       "      <td>Central African Republic</td>\n",
       "      <td>3</td>\n",
       "      <td>0.000045</td>\n",
       "    </tr>\n",
       "    <tr>\n",
       "      <th>217</th>\n",
       "      <td>Christmas Island</td>\n",
       "      <td>2</td>\n",
       "      <td>0.000030</td>\n",
       "    </tr>\n",
       "    <tr>\n",
       "      <th>218</th>\n",
       "      <td>Tuvalu</td>\n",
       "      <td>1</td>\n",
       "      <td>0.000015</td>\n",
       "    </tr>\n",
       "    <tr>\n",
       "      <th>219</th>\n",
       "      <td>Falkland Islands</td>\n",
       "      <td>1</td>\n",
       "      <td>0.000015</td>\n",
       "    </tr>\n",
       "    <tr>\n",
       "      <th>220</th>\n",
       "      <td>Niue</td>\n",
       "      <td>1</td>\n",
       "      <td>0.000015</td>\n",
       "    </tr>\n",
       "    <tr>\n",
       "      <th>221</th>\n",
       "      <td>Swaziland</td>\n",
       "      <td>1</td>\n",
       "      <td>0.000015</td>\n",
       "    </tr>\n",
       "    <tr>\n",
       "      <th>222</th>\n",
       "      <td>Lesotho</td>\n",
       "      <td>1</td>\n",
       "      <td>0.000015</td>\n",
       "    </tr>\n",
       "    <tr>\n",
       "      <th>223</th>\n",
       "      <td>Cocos (Keeling) Islands</td>\n",
       "      <td>1</td>\n",
       "      <td>0.000015</td>\n",
       "    </tr>\n",
       "    <tr>\n",
       "      <th>224</th>\n",
       "      <td>American Samoa</td>\n",
       "      <td>1</td>\n",
       "      <td>0.000015</td>\n",
       "    </tr>\n",
       "  </tbody>\n",
       "</table>\n",
       "<p>225 rows × 3 columns</p>\n",
       "</div>"
      ],
      "text/plain": [
       "                                 País  Frecuencia absoluta  \\\n",
       "0                       United States                13046   \n",
       "1                               China                 8121   \n",
       "2                      United Kingdom                 2661   \n",
       "3                               Spain                 2528   \n",
       "4                             Germany                 2352   \n",
       "5                              France                 1926   \n",
       "6                              Russia                 1808   \n",
       "7                               Italy                 1776   \n",
       "8                              Canada                 1521   \n",
       "9                              Brazil                 1387   \n",
       "10                              India                 1382   \n",
       "11                              Japan                 1285   \n",
       "12                          Australia                 1112   \n",
       "13                             Mexico                 1058   \n",
       "14                             Turkey                  970   \n",
       "15                          Indonesia                  833   \n",
       "16                             Greece                  787   \n",
       "17               United Arab Emirates                  740   \n",
       "18                             Norway                  646   \n",
       "19                            Unknown                  608   \n",
       "20                           Thailand                  604   \n",
       "21                        South Korea                  589   \n",
       "22                        Netherlands                  570   \n",
       "23                           Malaysia                  563   \n",
       "24                       Saudi Arabia                  542   \n",
       "25                           Portugal                  530   \n",
       "26                             Sweden                  454   \n",
       "27                        Switzerland                  429   \n",
       "28                               Iran                  419   \n",
       "29                             Taiwan                  414   \n",
       "..                                ...                  ...   \n",
       "195                           Comoros                    9   \n",
       "196                           Eritrea                    8   \n",
       "197                     Guinea-Bissau                    7   \n",
       "198                    Western Sahara                    7   \n",
       "199                          Kiribati                    7   \n",
       "200                  Marshall Islands                    7   \n",
       "201                     French Guiana                    7   \n",
       "202                         Gibraltar                    6   \n",
       "203                          Anguilla                    6   \n",
       "204                            Bhutan                    5   \n",
       "205                             Samoa                    5   \n",
       "206                             Tonga                    5   \n",
       "207                       North Korea                    5   \n",
       "208  Saint Vincent and the Grenadines                    4   \n",
       "209                     Faroe Islands                    4   \n",
       "210                 Wallis and Futuna                    4   \n",
       "211                        East Timor                    4   \n",
       "212         Saint Pierre and Miquelon                    3   \n",
       "213                             Nauru                    3   \n",
       "214             Sao Tome and Principe                    3   \n",
       "215                    Norfolk Island                    3   \n",
       "216          Central African Republic                    3   \n",
       "217                  Christmas Island                    2   \n",
       "218                            Tuvalu                    1   \n",
       "219                  Falkland Islands                    1   \n",
       "220                              Niue                    1   \n",
       "221                         Swaziland                    1   \n",
       "222                           Lesotho                    1   \n",
       "223           Cocos (Keeling) Islands                    1   \n",
       "224                    American Samoa                    1   \n",
       "\n",
       "     Frencuencia relativa  \n",
       "0                0.195402  \n",
       "1                0.121636  \n",
       "2                0.039856  \n",
       "3                0.037864  \n",
       "4                0.035228  \n",
       "5                0.028847  \n",
       "6                0.027080  \n",
       "7                0.026601  \n",
       "8                0.022781  \n",
       "9                0.020774  \n",
       "10               0.020699  \n",
       "11               0.019247  \n",
       "12               0.016655  \n",
       "13               0.015847  \n",
       "14               0.014529  \n",
       "15               0.012477  \n",
       "16               0.011788  \n",
       "17               0.011084  \n",
       "18               0.009676  \n",
       "19               0.009107  \n",
       "20               0.009047  \n",
       "21               0.008822  \n",
       "22               0.008537  \n",
       "23               0.008433  \n",
       "24               0.008118  \n",
       "25               0.007938  \n",
       "26               0.006800  \n",
       "27               0.006426  \n",
       "28               0.006276  \n",
       "29               0.006201  \n",
       "..                    ...  \n",
       "195              0.000135  \n",
       "196              0.000120  \n",
       "197              0.000105  \n",
       "198              0.000105  \n",
       "199              0.000105  \n",
       "200              0.000105  \n",
       "201              0.000105  \n",
       "202              0.000090  \n",
       "203              0.000090  \n",
       "204              0.000075  \n",
       "205              0.000075  \n",
       "206              0.000075  \n",
       "207              0.000075  \n",
       "208              0.000060  \n",
       "209              0.000060  \n",
       "210              0.000060  \n",
       "211              0.000060  \n",
       "212              0.000045  \n",
       "213              0.000045  \n",
       "214              0.000045  \n",
       "215              0.000045  \n",
       "216              0.000045  \n",
       "217              0.000030  \n",
       "218              0.000015  \n",
       "219              0.000015  \n",
       "220              0.000015  \n",
       "221              0.000015  \n",
       "222              0.000015  \n",
       "223              0.000015  \n",
       "224              0.000015  \n",
       "\n",
       "[225 rows x 3 columns]"
      ]
     },
     "execution_count": 54,
     "metadata": {},
     "output_type": "execute_result"
    }
   ],
   "source": [
    "rutas_pais=pd.value_counts(rutas['Pais_origen']).reset_index()\n",
    "rutas_pais.columns=['País', 'Frecuencia absoluta']\n",
    "rutas_pais['Frencuencia relativa']=rutas_pais['Frecuencia absoluta']/rutas_pais['Frecuencia absoluta'].sum()\n",
    "rutas_pais"
   ]
  },
  {
   "cell_type": "markdown",
   "metadata": {},
   "source": [
    "## Medidas de localización y dispersión\n",
    "\n",
    "Si bien la tabla de frecuencias ofrece toda la información disponible, el analista puede encontrar difícil la interpretación de toda esta información. Supongamos que queremos estudiar la columna **Distancia_km** de la tabla rutas, la cual contiene la distancia en kilómetros de cada vuelo aéreo que existe en el mundo. Sin duda la cantidad de datos es grande y difícil de interpretar.\n",
    "\n",
    "En el análisis descriptivo es conveniente sinterizar la información en unas pocas medidas de resumen. Estas medidas son llamadas medidas de localización y medidas de dispersión.\n",
    "\n",
    "Usaremos la columna Distancia_km para sintetizar la información asociada al largo de los vuelos."
   ]
  },
  {
   "cell_type": "markdown",
   "metadata": {},
   "source": [
    "Las medidas de localización más empleadas son **el promedio, la mediana, los percentiles y los cuartiles**.\n",
    "\n",
    "Partamos calculando el valor promedio usando la función mean() de la librería numpy de Python."
   ]
  },
  {
   "cell_type": "code",
   "execution_count": 74,
   "metadata": {
    "collapsed": false
   },
   "outputs": [
    {
     "data": {
      "text/plain": [
       "1824.65"
      ]
     },
     "execution_count": 74,
     "metadata": {},
     "output_type": "execute_result"
    }
   ],
   "source": [
    "np.mean(rutas['Distancia_km'])"
   ]
  },
  {
   "cell_type": "markdown",
   "metadata": {},
   "source": [
    "El valor promedio de la distancia reocrrida por los vuelos aéreos es 1.824,65 kilómetros.\n",
    "\n",
    "Calculemos la mediana usando la función median()"
   ]
  },
  {
   "cell_type": "code",
   "execution_count": 73,
   "metadata": {
    "collapsed": false
   },
   "outputs": [
    {
     "data": {
      "text/plain": [
       "1180.01"
      ]
     },
     "execution_count": 73,
     "metadata": {},
     "output_type": "execute_result"
    }
   ],
   "source": [
    "np.median(rutas['Distancia_km'])"
   ]
  },
  {
   "cell_type": "markdown",
   "metadata": {},
   "source": [
    "Vemos que el valor de la mediana es 1.180,01 kilómetros, muy diferente al valor promedio. Esto suele ocurrir cuando el conjunto de datos contiene un número importante de valores atípicos o la distribución de datos tiene un alto grado de asimetría.\n",
    "\n",
    "Calculemos los percentiles usando la función percentile(). Calculemos los percentiles 10, 50 y 90."
   ]
  },
  {
   "cell_type": "code",
   "execution_count": 59,
   "metadata": {
    "collapsed": false
   },
   "outputs": [
    {
     "data": {
      "text/plain": [
       "309.21"
      ]
     },
     "execution_count": 59,
     "metadata": {},
     "output_type": "execute_result"
    }
   ],
   "source": [
    "np.percentile(rutas['Distancia_km'],10)"
   ]
  },
  {
   "cell_type": "code",
   "execution_count": 60,
   "metadata": {
    "collapsed": false
   },
   "outputs": [
    {
     "data": {
      "text/plain": [
       "1180.01"
      ]
     },
     "execution_count": 60,
     "metadata": {},
     "output_type": "execute_result"
    }
   ],
   "source": [
    "np.percentile(rutas['Distancia_km'],50)"
   ]
  },
  {
   "cell_type": "code",
   "execution_count": 61,
   "metadata": {
    "collapsed": false
   },
   "outputs": [
    {
     "data": {
      "text/plain": [
       "3927.46"
      ]
     },
     "execution_count": 61,
     "metadata": {},
     "output_type": "execute_result"
    }
   ],
   "source": [
    "np.percentile(rutas['Distancia_km'],90)"
   ]
  },
  {
   "cell_type": "markdown",
   "metadata": {},
   "source": [
    "Una vez ordenados los datos de menor a mayor, el percentil 10 es el valor de la variable por debajo del cual se encuentra el 10% de los datos. Para el percentil 50 corresponde al valor que encierra al 50% de los datos, y cuyo valor coincide con la mediana.\n",
    "\n",
    "Calculemos los cuartiles usando la función percentile() y los valores 25, 50 y 75 que corresponden a los tres cuartiles.\n"
   ]
  },
  {
   "cell_type": "code",
   "execution_count": 62,
   "metadata": {
    "collapsed": false
   },
   "outputs": [
    {
     "data": {
      "text/plain": [
       "610.76"
      ]
     },
     "execution_count": 62,
     "metadata": {},
     "output_type": "execute_result"
    }
   ],
   "source": [
    "np.percentile(rutas['Distancia_km'],25)"
   ]
  },
  {
   "cell_type": "code",
   "execution_count": 64,
   "metadata": {
    "collapsed": false
   },
   "outputs": [
    {
     "data": {
      "text/plain": [
       "1180.01"
      ]
     },
     "execution_count": 64,
     "metadata": {},
     "output_type": "execute_result"
    }
   ],
   "source": [
    "np.percentile(rutas['Distancia_km'],50)"
   ]
  },
  {
   "cell_type": "code",
   "execution_count": 63,
   "metadata": {
    "collapsed": false
   },
   "outputs": [
    {
     "data": {
      "text/plain": [
       "2139.02"
      ]
     },
     "execution_count": 63,
     "metadata": {},
     "output_type": "execute_result"
    }
   ],
   "source": [
    "np.percentile(rutas['Distancia_km'],75)"
   ]
  },
  {
   "cell_type": "markdown",
   "metadata": {},
   "source": [
    "Las medidas de localización más empleadas son **el rango estadísitico, la desviación, la varianza y la desviación típica**.\n",
    "\n",
    "Partamos calculando el rango estadístico usando la función ptp()"
   ]
  },
  {
   "cell_type": "code",
   "execution_count": 71,
   "metadata": {
    "collapsed": false
   },
   "outputs": [
    {
     "data": {
      "text/plain": [
       "16072.16"
      ]
     },
     "execution_count": 71,
     "metadata": {},
     "output_type": "execute_result"
    }
   ],
   "source": [
    "np.ptp(rutas['Distancia_km'])"
   ]
  },
  {
   "cell_type": "markdown",
   "metadata": {},
   "source": [
    "Vemos que la diferencia entre el vuelo más largo de la tabla y el vuelo más corto corresponde a 16.072.16 kms\n",
    "\n",
    "Calculemos la desviación para los primeros 5 valores de la tabla. Usaremos el valor de cada registro y el promedio calculado usando la función mean()"
   ]
  },
  {
   "cell_type": "code",
   "execution_count": 78,
   "metadata": {
    "collapsed": false
   },
   "outputs": [
    {
     "data": {
      "text/plain": [
       "array([-1656.81,   948.68,   627.96,  -434.41,    -7.49])"
      ]
     },
     "execution_count": 78,
     "metadata": {},
     "output_type": "execute_result"
    }
   ],
   "source": [
    "rutas['Distancia_km'][0:5].values - np.mean(rutas['Distancia_km'])"
   ]
  },
  {
   "cell_type": "markdown",
   "metadata": {},
   "source": [
    "Vemos que el primer registro está por debajo del promedio y por ello su desviación es negativa.\n",
    "\n",
    "Calulemos la varianza usando la función var()"
   ]
  },
  {
   "cell_type": "code",
   "execution_count": 79,
   "metadata": {
    "collapsed": false
   },
   "outputs": [
    {
     "data": {
      "text/plain": [
       "4050466.74"
      ]
     },
     "execution_count": 79,
     "metadata": {},
     "output_type": "execute_result"
    }
   ],
   "source": [
    "np.var(rutas['Distancia_km'])"
   ]
  },
  {
   "cell_type": "markdown",
   "metadata": {},
   "source": [
    "Vemos que la varianza del conjunto de datos es bastante alta, pues su valor es 4.050.466,74 $km^2$. Es importante notar que las unidades de varianza son cuadráticas y por ello decimos $km^2$.\n",
    "\n",
    "Calulemos la desviación típica o desviación estándar usando la función std()"
   ]
  },
  {
   "cell_type": "code",
   "execution_count": 80,
   "metadata": {
    "collapsed": false
   },
   "outputs": [
    {
     "data": {
      "text/plain": [
       "2012.58"
      ]
     },
     "execution_count": 80,
     "metadata": {},
     "output_type": "execute_result"
    }
   ],
   "source": [
    "np.std(rutas['Distancia_km'])"
   ]
  },
  {
   "cell_type": "markdown",
   "metadata": {},
   "source": [
    "Vemos que la desviación típica es 2.012,58 km. La desviación estándar tiene las mismas unidades físicas que el conjunto de datos."
   ]
  },
  {
   "cell_type": "code",
   "execution_count": null,
   "metadata": {
    "collapsed": true
   },
   "outputs": [],
   "source": []
  }
 ],
 "metadata": {
  "kernelspec": {
   "display_name": "Python 3",
   "language": "python",
   "name": "python3"
  },
  "language_info": {
   "codemirror_mode": {
    "name": "ipython",
    "version": 3
   },
   "file_extension": ".py",
   "mimetype": "text/x-python",
   "name": "python",
   "nbconvert_exporter": "python",
   "pygments_lexer": "ipython3",
   "version": "3.6.1"
  }
 },
 "nbformat": 4,
 "nbformat_minor": 2
}
